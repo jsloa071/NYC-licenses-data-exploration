{
 "cells": [
  {
   "cell_type": "code",
   "execution_count": 1,
   "metadata": {},
   "outputs": [],
   "source": [
    "import pandas as pd\n",
    "import matplotlib.pyplot as plt\n",
    "import numpy as np"
   ]
  },
  {
   "cell_type": "code",
   "execution_count": 2,
   "metadata": {},
   "outputs": [],
   "source": [
    "filepath = 'data/h2017collisionsfinal.xlsx'"
   ]
  },
  {
   "cell_type": "code",
   "execution_count": 3,
   "metadata": {},
   "outputs": [],
   "source": [
    "df = pd.read_excel(filepath)"
   ]
  },
  {
   "cell_type": "code",
   "execution_count": 4,
   "metadata": {},
   "outputs": [
    {
     "data": {
      "text/html": [
       "<div>\n",
       "<style scoped>\n",
       "    .dataframe tbody tr th:only-of-type {\n",
       "        vertical-align: middle;\n",
       "    }\n",
       "\n",
       "    .dataframe tbody tr th {\n",
       "        vertical-align: top;\n",
       "    }\n",
       "\n",
       "    .dataframe thead th {\n",
       "        text-align: right;\n",
       "    }\n",
       "</style>\n",
       "<table border=\"1\" class=\"dataframe\">\n",
       "  <thead>\n",
       "    <tr style=\"text-align: right;\">\n",
       "      <th></th>\n",
       "      <th>Record</th>\n",
       "      <th>Location</th>\n",
       "      <th>X</th>\n",
       "      <th>Y</th>\n",
       "      <th>Longitude</th>\n",
       "      <th>Latitude</th>\n",
       "      <th>Year</th>\n",
       "      <th>Date</th>\n",
       "      <th>Time</th>\n",
       "      <th>Environment</th>\n",
       "      <th>Road_Surface</th>\n",
       "      <th>Traffic_Control</th>\n",
       "      <th>Collision_Location</th>\n",
       "      <th>Light</th>\n",
       "      <th>Collision_Classification</th>\n",
       "      <th>Impact_type</th>\n",
       "    </tr>\n",
       "  </thead>\n",
       "  <tbody>\n",
       "    <tr>\n",
       "      <th>0</th>\n",
       "      <td>1</td>\n",
       "      <td>210 W OF MERIVALE RD @ WEST HUNT CLUB RD</td>\n",
       "      <td>365431.70335</td>\n",
       "      <td>5.021829e+06</td>\n",
       "      <td>-75.726437</td>\n",
       "      <td>45.333794</td>\n",
       "      <td>2017</td>\n",
       "      <td>2017-08-22</td>\n",
       "      <td>18:10:00</td>\n",
       "      <td>01 - Clear</td>\n",
       "      <td>02 - Wet</td>\n",
       "      <td>01 - Traffic signal</td>\n",
       "      <td>02 - Intersection related</td>\n",
       "      <td>01 - Daylight</td>\n",
       "      <td>02 - Non-fatal injury</td>\n",
       "      <td>03 - Rear end</td>\n",
       "    </tr>\n",
       "    <tr>\n",
       "      <th>1</th>\n",
       "      <td>2</td>\n",
       "      <td>210 W OF MERIVALE RD @ WEST HUNT CLUB RD</td>\n",
       "      <td>365430.63705</td>\n",
       "      <td>5.021830e+06</td>\n",
       "      <td>-75.726451</td>\n",
       "      <td>45.333803</td>\n",
       "      <td>2017</td>\n",
       "      <td>2017-10-19</td>\n",
       "      <td>12:20:00</td>\n",
       "      <td>01 - Clear</td>\n",
       "      <td>01 - Dry</td>\n",
       "      <td>01 - Traffic signal</td>\n",
       "      <td>03 - At intersection</td>\n",
       "      <td>01 - Daylight</td>\n",
       "      <td>03 - P.D. only</td>\n",
       "      <td>05 - Turning movement</td>\n",
       "    </tr>\n",
       "    <tr>\n",
       "      <th>2</th>\n",
       "      <td>3</td>\n",
       "      <td>210 W OF MERIVALE RD @ WEST HUNT CLUB RD</td>\n",
       "      <td>365431.70110</td>\n",
       "      <td>5.021829e+06</td>\n",
       "      <td>-75.726437</td>\n",
       "      <td>45.333794</td>\n",
       "      <td>2017</td>\n",
       "      <td>2017-01-31</td>\n",
       "      <td>08:09:00</td>\n",
       "      <td>01 - Clear</td>\n",
       "      <td>01 - Dry</td>\n",
       "      <td>01 - Traffic signal</td>\n",
       "      <td>02 - Intersection related</td>\n",
       "      <td>01 - Daylight</td>\n",
       "      <td>02 - Non-fatal injury</td>\n",
       "      <td>03 - Rear end</td>\n",
       "    </tr>\n",
       "    <tr>\n",
       "      <th>3</th>\n",
       "      <td>4</td>\n",
       "      <td>210 W OF MERIVALE RD @ WEST HUNT CLUB RD</td>\n",
       "      <td>365431.35217</td>\n",
       "      <td>5.021829e+06</td>\n",
       "      <td>-75.726442</td>\n",
       "      <td>45.333794</td>\n",
       "      <td>2017</td>\n",
       "      <td>2017-03-24</td>\n",
       "      <td>10:45:00</td>\n",
       "      <td>03 - Snow</td>\n",
       "      <td>03 - Loose snow</td>\n",
       "      <td>01 - Traffic signal</td>\n",
       "      <td>02 - Intersection related</td>\n",
       "      <td>01 - Daylight</td>\n",
       "      <td>03 - P.D. only</td>\n",
       "      <td>03 - Rear end</td>\n",
       "    </tr>\n",
       "    <tr>\n",
       "      <th>4</th>\n",
       "      <td>5</td>\n",
       "      <td>210 W OF MERIVALE RD @ WEST HUNT CLUB RD</td>\n",
       "      <td>365432.02107</td>\n",
       "      <td>5.021829e+06</td>\n",
       "      <td>-75.726433</td>\n",
       "      <td>45.333794</td>\n",
       "      <td>2017</td>\n",
       "      <td>2017-04-04</td>\n",
       "      <td>12:30:00</td>\n",
       "      <td>02 - Rain</td>\n",
       "      <td>02 - Wet</td>\n",
       "      <td>01 - Traffic signal</td>\n",
       "      <td>02 - Intersection related</td>\n",
       "      <td>01 - Daylight</td>\n",
       "      <td>03 - P.D. only</td>\n",
       "      <td>03 - Rear end</td>\n",
       "    </tr>\n",
       "  </tbody>\n",
       "</table>\n",
       "</div>"
      ],
      "text/plain": [
       "   Record                                  Location             X  \\\n",
       "0       1  210 W OF MERIVALE RD @ WEST HUNT CLUB RD  365431.70335   \n",
       "1       2  210 W OF MERIVALE RD @ WEST HUNT CLUB RD  365430.63705   \n",
       "2       3  210 W OF MERIVALE RD @ WEST HUNT CLUB RD  365431.70110   \n",
       "3       4  210 W OF MERIVALE RD @ WEST HUNT CLUB RD  365431.35217   \n",
       "4       5  210 W OF MERIVALE RD @ WEST HUNT CLUB RD  365432.02107   \n",
       "\n",
       "              Y  Longitude   Latitude  Year       Date      Time Environment  \\\n",
       "0  5.021829e+06 -75.726437  45.333794  2017 2017-08-22  18:10:00  01 - Clear   \n",
       "1  5.021830e+06 -75.726451  45.333803  2017 2017-10-19  12:20:00  01 - Clear   \n",
       "2  5.021829e+06 -75.726437  45.333794  2017 2017-01-31  08:09:00  01 - Clear   \n",
       "3  5.021829e+06 -75.726442  45.333794  2017 2017-03-24  10:45:00   03 - Snow   \n",
       "4  5.021829e+06 -75.726433  45.333794  2017 2017-04-04  12:30:00   02 - Rain   \n",
       "\n",
       "      Road_Surface      Traffic_Control         Collision_Location  \\\n",
       "0         02 - Wet  01 - Traffic signal  02 - Intersection related   \n",
       "1         01 - Dry  01 - Traffic signal       03 - At intersection   \n",
       "2         01 - Dry  01 - Traffic signal  02 - Intersection related   \n",
       "3  03 - Loose snow  01 - Traffic signal  02 - Intersection related   \n",
       "4         02 - Wet  01 - Traffic signal  02 - Intersection related   \n",
       "\n",
       "           Light Collision_Classification            Impact_type  \n",
       "0  01 - Daylight    02 - Non-fatal injury          03 - Rear end  \n",
       "1  01 - Daylight           03 - P.D. only  05 - Turning movement  \n",
       "2  01 - Daylight    02 - Non-fatal injury          03 - Rear end  \n",
       "3  01 - Daylight           03 - P.D. only          03 - Rear end  \n",
       "4  01 - Daylight           03 - P.D. only          03 - Rear end  "
      ]
     },
     "execution_count": 4,
     "metadata": {},
     "output_type": "execute_result"
    }
   ],
   "source": [
    "df.head()"
   ]
  },
  {
   "cell_type": "code",
   "execution_count": 5,
   "metadata": {},
   "outputs": [
    {
     "data": {
      "text/html": [
       "<div>\n",
       "<style scoped>\n",
       "    .dataframe tbody tr th:only-of-type {\n",
       "        vertical-align: middle;\n",
       "    }\n",
       "\n",
       "    .dataframe tbody tr th {\n",
       "        vertical-align: top;\n",
       "    }\n",
       "\n",
       "    .dataframe thead th {\n",
       "        text-align: right;\n",
       "    }\n",
       "</style>\n",
       "<table border=\"1\" class=\"dataframe\">\n",
       "  <thead>\n",
       "    <tr style=\"text-align: right;\">\n",
       "      <th></th>\n",
       "      <th>Record</th>\n",
       "      <th>X</th>\n",
       "      <th>Y</th>\n",
       "      <th>Longitude</th>\n",
       "      <th>Latitude</th>\n",
       "      <th>Year</th>\n",
       "    </tr>\n",
       "  </thead>\n",
       "  <tbody>\n",
       "    <tr>\n",
       "      <th>count</th>\n",
       "      <td>14394.000000</td>\n",
       "      <td>14394.000000</td>\n",
       "      <td>1.439400e+04</td>\n",
       "      <td>14394.000000</td>\n",
       "      <td>14394.000000</td>\n",
       "      <td>14394.0</td>\n",
       "    </tr>\n",
       "    <tr>\n",
       "      <th>mean</th>\n",
       "      <td>7197.500000</td>\n",
       "      <td>366974.040985</td>\n",
       "      <td>5.025853e+06</td>\n",
       "      <td>-75.706185</td>\n",
       "      <td>45.369796</td>\n",
       "      <td>2017.0</td>\n",
       "    </tr>\n",
       "    <tr>\n",
       "      <th>std</th>\n",
       "      <td>4155.334222</td>\n",
       "      <td>9598.292489</td>\n",
       "      <td>7.613155e+03</td>\n",
       "      <td>0.122977</td>\n",
       "      <td>0.068101</td>\n",
       "      <td>0.0</td>\n",
       "    </tr>\n",
       "    <tr>\n",
       "      <th>min</th>\n",
       "      <td>1.000000</td>\n",
       "      <td>317874.138160</td>\n",
       "      <td>4.981312e+06</td>\n",
       "      <td>-76.332944</td>\n",
       "      <td>44.969795</td>\n",
       "      <td>2017.0</td>\n",
       "    </tr>\n",
       "    <tr>\n",
       "      <th>25%</th>\n",
       "      <td>3599.250000</td>\n",
       "      <td>363081.656613</td>\n",
       "      <td>5.021840e+06</td>\n",
       "      <td>-75.756104</td>\n",
       "      <td>45.334180</td>\n",
       "      <td>2017.0</td>\n",
       "    </tr>\n",
       "    <tr>\n",
       "      <th>50%</th>\n",
       "      <td>7197.500000</td>\n",
       "      <td>367644.666650</td>\n",
       "      <td>5.026990e+06</td>\n",
       "      <td>-75.697177</td>\n",
       "      <td>45.379985</td>\n",
       "      <td>2017.0</td>\n",
       "    </tr>\n",
       "    <tr>\n",
       "      <th>75%</th>\n",
       "      <td>10795.750000</td>\n",
       "      <td>371920.938698</td>\n",
       "      <td>5.031281e+06</td>\n",
       "      <td>-75.642901</td>\n",
       "      <td>45.418448</td>\n",
       "      <td>2017.0</td>\n",
       "    </tr>\n",
       "    <tr>\n",
       "      <th>max</th>\n",
       "      <td>14394.000000</td>\n",
       "      <td>400270.545830</td>\n",
       "      <td>5.043414e+06</td>\n",
       "      <td>-75.280530</td>\n",
       "      <td>45.524708</td>\n",
       "      <td>2017.0</td>\n",
       "    </tr>\n",
       "  </tbody>\n",
       "</table>\n",
       "</div>"
      ],
      "text/plain": [
       "             Record              X             Y     Longitude      Latitude  \\\n",
       "count  14394.000000   14394.000000  1.439400e+04  14394.000000  14394.000000   \n",
       "mean    7197.500000  366974.040985  5.025853e+06    -75.706185     45.369796   \n",
       "std     4155.334222    9598.292489  7.613155e+03      0.122977      0.068101   \n",
       "min        1.000000  317874.138160  4.981312e+06    -76.332944     44.969795   \n",
       "25%     3599.250000  363081.656613  5.021840e+06    -75.756104     45.334180   \n",
       "50%     7197.500000  367644.666650  5.026990e+06    -75.697177     45.379985   \n",
       "75%    10795.750000  371920.938698  5.031281e+06    -75.642901     45.418448   \n",
       "max    14394.000000  400270.545830  5.043414e+06    -75.280530     45.524708   \n",
       "\n",
       "          Year  \n",
       "count  14394.0  \n",
       "mean    2017.0  \n",
       "std        0.0  \n",
       "min     2017.0  \n",
       "25%     2017.0  \n",
       "50%     2017.0  \n",
       "75%     2017.0  \n",
       "max     2017.0  "
      ]
     },
     "execution_count": 5,
     "metadata": {},
     "output_type": "execute_result"
    }
   ],
   "source": [
    "df.describe()"
   ]
  },
  {
   "cell_type": "code",
   "execution_count": 6,
   "metadata": {},
   "outputs": [
    {
     "data": {
      "text/plain": [
       "Record                               int64\n",
       "Location                            object\n",
       "X                                  float64\n",
       "Y                                  float64\n",
       "Longitude                          float64\n",
       "Latitude                           float64\n",
       "Year                                 int64\n",
       "Date                        datetime64[ns]\n",
       "Time                                object\n",
       "Environment                         object\n",
       "Road_Surface                        object\n",
       "Traffic_Control                     object\n",
       "Collision_Location                  object\n",
       "Light                               object\n",
       "Collision_Classification            object\n",
       "Impact_type                         object\n",
       "dtype: object"
      ]
     },
     "execution_count": 6,
     "metadata": {},
     "output_type": "execute_result"
    }
   ],
   "source": [
    "df.dtypes"
   ]
  },
  {
   "cell_type": "code",
   "execution_count": 7,
   "metadata": {},
   "outputs": [],
   "source": [
    "accidents_dates_df = df[['Record','Date']]"
   ]
  },
  {
   "cell_type": "code",
   "execution_count": 8,
   "metadata": {},
   "outputs": [
    {
     "data": {
      "text/plain": [
       "Date\n",
       "01 January      1275\n",
       "02 February     1279\n",
       "03 March        1224\n",
       "04 April         913\n",
       "05 May          1084\n",
       "06 June         1095\n",
       "07 July          971\n",
       "08 August        990\n",
       "09 September    1176\n",
       "10 October      1139\n",
       "11 November     1493\n",
       "12 December     1755\n",
       "Name: Record, dtype: int64"
      ]
     },
     "execution_count": 8,
     "metadata": {},
     "output_type": "execute_result"
    }
   ],
   "source": [
    "accidents_by_month = df.groupby(df['Date'].dt.strftime('%m %B'))['Record'].count().sort_index()\n",
    "accidents_by_month"
   ]
  },
  {
   "cell_type": "code",
   "execution_count": 9,
   "metadata": {},
   "outputs": [
    {
     "data": {
      "image/png": "[encoded data removed]",
      "text/plain": [
       "<Figure size 432x288 with 1 Axes>"
      ]
     },
     "metadata": {
      "needs_background": "light"
     },
     "output_type": "display_data"
    }
   ],
   "source": [
    "bar_width = 0.8\n",
    "\n",
    "fig = plt.figure()\n",
    "fig.suptitle('City of Ottawa Accidents by Month 2017', fontsize=14, fontweight='bold')\n",
    "\n",
    "ax = fig.add_subplot(111)\n",
    "fig.subplots_adjust(top=0.85)\n",
    "\n",
    "ax.set_xlabel('Month')\n",
    "ax.set_ylabel('Number of Accidents')\n",
    "plt.xticks(rotation=90)\n",
    "\n",
    "\n",
    "bars = ax.bar(accidents_by_month.index, accidents_by_month, bar_width,\n",
    "      color='m')\n",
    "\n",
    "for bar in bars:\n",
    "    height = bar.get_height()\n",
    "    height_displacement = 15\n",
    "    ax.text(bar.get_x() + bar.get_width()/2.0, height + height_displacement,\n",
    "            '%d' % height,\n",
    "            ha='center', va='bottom')\n",
    "\n",
    "plt.show()"
   ]
  },
  {
   "cell_type": "markdown",
   "metadata": {},
   "source": [
    "# Compare 2017 over 2016"
   ]
  },
  {
   "cell_type": "code",
   "execution_count": 10,
   "metadata": {},
   "outputs": [
    {
     "data": {
      "text/html": [
       "<div>\n",
       "<style scoped>\n",
       "    .dataframe tbody tr th:only-of-type {\n",
       "        vertical-align: middle;\n",
       "    }\n",
       "\n",
       "    .dataframe tbody tr th {\n",
       "        vertical-align: top;\n",
       "    }\n",
       "\n",
       "    .dataframe thead th {\n",
       "        text-align: right;\n",
       "    }\n",
       "</style>\n",
       "<table border=\"1\" class=\"dataframe\">\n",
       "  <thead>\n",
       "    <tr style=\"text-align: right;\">\n",
       "      <th></th>\n",
       "      <th>Record</th>\n",
       "      <th>Location</th>\n",
       "      <th>X</th>\n",
       "      <th>Y</th>\n",
       "      <th>Date</th>\n",
       "      <th>Time</th>\n",
       "      <th>Environment</th>\n",
       "      <th>Road_Surface</th>\n",
       "      <th>Traffic_Control</th>\n",
       "      <th>Collision_Location</th>\n",
       "      <th>Light</th>\n",
       "      <th>Collision_Classification</th>\n",
       "      <th>Impact_type</th>\n",
       "    </tr>\n",
       "  </thead>\n",
       "  <tbody>\n",
       "    <tr>\n",
       "      <th>0</th>\n",
       "      <td>1</td>\n",
       "      <td>105 S OF COMMISSIONER ST @ ALBERT ST</td>\n",
       "      <td>366666.27470</td>\n",
       "      <td>5.030879e+06</td>\n",
       "      <td>2016-08-04</td>\n",
       "      <td>17:03:00</td>\n",
       "      <td>01 - Clear</td>\n",
       "      <td>01 - Dry</td>\n",
       "      <td>01 - Traffic signal</td>\n",
       "      <td>02 - Intersection related</td>\n",
       "      <td>01 - Daylight</td>\n",
       "      <td>03 - P.D. only</td>\n",
       "      <td>04 - Sideswipe</td>\n",
       "    </tr>\n",
       "    <tr>\n",
       "      <th>1</th>\n",
       "      <td>2</td>\n",
       "      <td>210 W OF MERIVALE RD @ WEST HUNT CLUB RD</td>\n",
       "      <td>365431.43901</td>\n",
       "      <td>5.021830e+06</td>\n",
       "      <td>2016-03-30</td>\n",
       "      <td>15:44:00</td>\n",
       "      <td>01 - Clear</td>\n",
       "      <td>01 - Dry</td>\n",
       "      <td>01 - Traffic signal</td>\n",
       "      <td>03 - At intersection</td>\n",
       "      <td>01 - Daylight</td>\n",
       "      <td>02 - Non-fatal injury</td>\n",
       "      <td>05 - Turning movement</td>\n",
       "    </tr>\n",
       "    <tr>\n",
       "      <th>2</th>\n",
       "      <td>3</td>\n",
       "      <td>210 W OF MERIVALE RD @ WEST HUNT CLUB RD</td>\n",
       "      <td>365432.23417</td>\n",
       "      <td>5.021830e+06</td>\n",
       "      <td>2016-09-02</td>\n",
       "      <td>16:02:00</td>\n",
       "      <td>01 - Clear</td>\n",
       "      <td>01 - Dry</td>\n",
       "      <td>01 - Traffic signal</td>\n",
       "      <td>03 - At intersection</td>\n",
       "      <td>01 - Daylight</td>\n",
       "      <td>03 - P.D. only</td>\n",
       "      <td>05 - Turning movement</td>\n",
       "    </tr>\n",
       "    <tr>\n",
       "      <th>3</th>\n",
       "      <td>4</td>\n",
       "      <td>210 W OF MERIVALE RD @ WEST HUNT CLUB RD</td>\n",
       "      <td>365430.72652</td>\n",
       "      <td>5.021830e+06</td>\n",
       "      <td>2016-03-12</td>\n",
       "      <td>17:30:00</td>\n",
       "      <td>01 - Clear</td>\n",
       "      <td>01 - Dry</td>\n",
       "      <td>01 - Traffic signal</td>\n",
       "      <td>03 - At intersection</td>\n",
       "      <td>01 - Daylight</td>\n",
       "      <td>03 - P.D. only</td>\n",
       "      <td>05 - Turning movement</td>\n",
       "    </tr>\n",
       "    <tr>\n",
       "      <th>4</th>\n",
       "      <td>5</td>\n",
       "      <td>210 W OF MERIVALE RD @ WEST HUNT CLUB RD</td>\n",
       "      <td>365430.66577</td>\n",
       "      <td>5.021831e+06</td>\n",
       "      <td>2016-08-23</td>\n",
       "      <td>15:52:00</td>\n",
       "      <td>01 - Clear</td>\n",
       "      <td>01 - Dry</td>\n",
       "      <td>01 - Traffic signal</td>\n",
       "      <td>02 - Intersection related</td>\n",
       "      <td>01 - Daylight</td>\n",
       "      <td>03 - P.D. only</td>\n",
       "      <td>03 - Rear end</td>\n",
       "    </tr>\n",
       "  </tbody>\n",
       "</table>\n",
       "</div>"
      ],
      "text/plain": [
       "   Record                                  Location             X  \\\n",
       "0       1      105 S OF COMMISSIONER ST @ ALBERT ST  366666.27470   \n",
       "1       2  210 W OF MERIVALE RD @ WEST HUNT CLUB RD  365431.43901   \n",
       "2       3  210 W OF MERIVALE RD @ WEST HUNT CLUB RD  365432.23417   \n",
       "3       4  210 W OF MERIVALE RD @ WEST HUNT CLUB RD  365430.72652   \n",
       "4       5  210 W OF MERIVALE RD @ WEST HUNT CLUB RD  365430.66577   \n",
       "\n",
       "              Y       Date      Time Environment Road_Surface  \\\n",
       "0  5.030879e+06 2016-08-04  17:03:00  01 - Clear     01 - Dry   \n",
       "1  5.021830e+06 2016-03-30  15:44:00  01 - Clear     01 - Dry   \n",
       "2  5.021830e+06 2016-09-02  16:02:00  01 - Clear     01 - Dry   \n",
       "3  5.021830e+06 2016-03-12  17:30:00  01 - Clear     01 - Dry   \n",
       "4  5.021831e+06 2016-08-23  15:52:00  01 - Clear     01 - Dry   \n",
       "\n",
       "       Traffic_Control         Collision_Location          Light  \\\n",
       "0  01 - Traffic signal  02 - Intersection related  01 - Daylight   \n",
       "1  01 - Traffic signal       03 - At intersection  01 - Daylight   \n",
       "2  01 - Traffic signal       03 - At intersection  01 - Daylight   \n",
       "3  01 - Traffic signal       03 - At intersection  01 - Daylight   \n",
       "4  01 - Traffic signal  02 - Intersection related  01 - Daylight   \n",
       "\n",
       "  Collision_Classification            Impact_type  \n",
       "0           03 - P.D. only         04 - Sideswipe  \n",
       "1    02 - Non-fatal injury  05 - Turning movement  \n",
       "2           03 - P.D. only  05 - Turning movement  \n",
       "3           03 - P.D. only  05 - Turning movement  \n",
       "4           03 - P.D. only          03 - Rear end  "
      ]
     },
     "execution_count": 10,
     "metadata": {},
     "output_type": "execute_result"
    }
   ],
   "source": [
    "filepath_2016 = 'data/2016collisionsfinal.xls'\n",
    "df_2016 = pd.read_excel(filepath_2016)\n",
    "df_2016.head()"
   ]
  },
  {
   "cell_type": "code",
   "execution_count": 11,
   "metadata": {},
   "outputs": [
    {
     "data": {
      "text/plain": [
       "Date\n",
       "01 January      1407\n",
       "02 February     1523\n",
       "03 March        1018\n",
       "04 April         944\n",
       "05 May          1109\n",
       "06 June         1135\n",
       "07 July         1035\n",
       "08 August        976\n",
       "09 September    1073\n",
       "10 October      1111\n",
       "11 November     1155\n",
       "12 December     1537\n",
       "Name: Record, dtype: int64"
      ]
     },
     "execution_count": 11,
     "metadata": {},
     "output_type": "execute_result"
    }
   ],
   "source": [
    "accidents_by_month_2016 = df_2016.groupby(df_2016['Date'].dt.strftime('%m %B'))['Record'].count().sort_index()\n",
    "accidents_by_month_2016"
   ]
  },
  {
   "cell_type": "code",
   "execution_count": 12,
   "metadata": {},
   "outputs": [
    {
     "data": {
      "image/png": "[encoded data removed]",
      "text/plain": [
       "<Figure size 432x288 with 1 Axes>"
      ]
     },
     "metadata": {
      "needs_background": "light"
     },
     "output_type": "display_data"
    }
   ],
   "source": [
    "bar_width = 0.8\n",
    "\n",
    "def subcategorybar(X, vals, width=bar_width):\n",
    "    n = len(vals)\n",
    "    _X = np.arange(len(X))\n",
    "    for i in range(n):\n",
    "        barcolor = 'b' if i==0 else 'm'\n",
    "        plt.bar(_X - width/2. + i/float(n)*width, vals[i], \n",
    "                width=width/float(n), align=\"edge\", color=barcolor)   \n",
    "    plt.xticks(_X, X)\n",
    "\n",
    "plt.xticks(rotation=90)\n",
    "subcategorybar(accidents_by_month.index, [accidents_by_month_2016, accidents_by_month])\n",
    "\n",
    "plt.show()"
   ]
  },
  {
   "cell_type": "code",
   "execution_count": 13,
   "metadata": {},
   "outputs": [
    {
     "data": {
      "text/plain": [
       "Date\n",
       "01 January      -9.38\n",
       "02 February    -16.02\n",
       "03 March        20.24\n",
       "04 April        -3.28\n",
       "05 May          -2.25\n",
       "06 June         -3.52\n",
       "07 July         -6.18\n",
       "08 August        1.43\n",
       "09 September     9.60\n",
       "10 October       2.52\n",
       "11 November     29.26\n",
       "12 December     14.18\n",
       "Name: Record, dtype: float64"
      ]
     },
     "execution_count": 13,
     "metadata": {},
     "output_type": "execute_result"
    }
   ],
   "source": [
    "year_over_year_changes = round((accidents_by_month - accidents_by_month_2016) / accidents_by_month_2016 * 100,2)\n",
    "\n",
    "year_over_year = pd.Series(index = accidents_by_month.index, data = year_over_year_changes)\n",
    "year_over_year"
   ]
  },
  {
   "cell_type": "code",
   "execution_count": 14,
   "metadata": {},
   "outputs": [
    {
     "name": "stdout",
     "output_type": "stream",
     "text": [
      "Average monthly y/y change:  3.05 %\n"
     ]
    }
   ],
   "source": [
    "print(\"Average monthly y/y change: \", round(np.average(year_over_year.values),2),\"%\")"
   ]
  },
  {
   "cell_type": "code",
   "execution_count": null,
   "metadata": {},
   "outputs": [],
   "source": []
  },
  {
   "cell_type": "code",
   "execution_count": null,
   "metadata": {},
   "outputs": [],
   "source": []
  }
 ],
 "metadata": {
  "kernelspec": {
   "display_name": "Python 3",
   "language": "python",
   "name": "python3"
  },
  "language_info": {
   "codemirror_mode": {
    "name": "ipython",
    "version": 3
   },
   "file_extension": ".py",
   "mimetype": "text/x-python",
   "name": "python",
   "nbconvert_exporter": "python",
   "pygments_lexer": "ipython3",
   "version": "3.7.1"
  }
 },
 "nbformat": 4,
 "nbformat_minor": 2
}
